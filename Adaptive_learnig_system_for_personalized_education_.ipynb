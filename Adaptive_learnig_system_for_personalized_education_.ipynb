{
  "cells": [
    {
      "cell_type": "markdown",
      "metadata": {
        "id": "view-in-github",
        "colab_type": "text"
      },
      "source": [
        "<a href=\"https://colab.research.google.com/github/Saurabh-975/Adaptive-learnig-system-for-personalized-education/blob/main/Adaptive_learnig_system_for_personalized_education_.ipynb\" target=\"_parent\"><img src=\"https://colab.research.google.com/assets/colab-badge.svg\" alt=\"Open In Colab\"/></a>"
      ]
    },
    {
      "cell_type": "code",
      "execution_count": null,
      "id": "b84f147e",
      "metadata": {
        "id": "b84f147e"
      },
      "outputs": [],
      "source": [
        "import pandas as pd\n",
        "from sklearn.tree import DecisionTreeClassifier\n",
        "from sklearn.model_selection import train_test_split\n",
        "import numpy as np\n",
        "\n",
        "# Function to read dataset from CSV file\n",
        "dataset = pd.read_csv(\"C:/Users/asus/Downloads/Dataset.csv\")\n",
        "X = dataset.drop(columns=['label'])\n",
        "y = dataset['label']"
      ]
    },
    {
      "cell_type": "code",
      "execution_count": null,
      "id": "5a6b00df",
      "metadata": {
        "id": "5a6b00df",
        "outputId": "887eafcb-f917-450d-d687-8db89ebaf334"
      },
      "outputs": [
        {
          "data": {
            "text/html": [
              "<div>\n",
              "<style scoped>\n",
              "    .dataframe tbody tr th:only-of-type {\n",
              "        vertical-align: middle;\n",
              "    }\n",
              "\n",
              "    .dataframe tbody tr th {\n",
              "        vertical-align: top;\n",
              "    }\n",
              "\n",
              "    .dataframe thead th {\n",
              "        text-align: right;\n",
              "    }\n",
              "</style>\n",
              "<table border=\"1\" class=\"dataframe\">\n",
              "  <thead>\n",
              "    <tr style=\"text-align: right;\">\n",
              "      <th></th>\n",
              "      <th>difficulty_level</th>\n",
              "      <th>topic</th>\n",
              "      <th>question_type</th>\n",
              "      <th>time_taken</th>\n",
              "      <th>attempts</th>\n",
              "      <th>label</th>\n",
              "    </tr>\n",
              "  </thead>\n",
              "  <tbody>\n",
              "    <tr>\n",
              "      <th>0</th>\n",
              "      <td>3</td>\n",
              "      <td>1</td>\n",
              "      <td>0</td>\n",
              "      <td>30</td>\n",
              "      <td>1</td>\n",
              "      <td>1</td>\n",
              "    </tr>\n",
              "    <tr>\n",
              "      <th>1</th>\n",
              "      <td>5</td>\n",
              "      <td>2</td>\n",
              "      <td>1</td>\n",
              "      <td>45</td>\n",
              "      <td>2</td>\n",
              "      <td>1</td>\n",
              "    </tr>\n",
              "    <tr>\n",
              "      <th>2</th>\n",
              "      <td>2</td>\n",
              "      <td>1</td>\n",
              "      <td>0</td>\n",
              "      <td>20</td>\n",
              "      <td>1</td>\n",
              "      <td>0</td>\n",
              "    </tr>\n",
              "    <tr>\n",
              "      <th>3</th>\n",
              "      <td>6</td>\n",
              "      <td>3</td>\n",
              "      <td>1</td>\n",
              "      <td>60</td>\n",
              "      <td>3</td>\n",
              "      <td>1</td>\n",
              "    </tr>\n",
              "    <tr>\n",
              "      <th>4</th>\n",
              "      <td>4</td>\n",
              "      <td>2</td>\n",
              "      <td>0</td>\n",
              "      <td>40</td>\n",
              "      <td>2</td>\n",
              "      <td>0</td>\n",
              "    </tr>\n",
              "  </tbody>\n",
              "</table>\n",
              "</div>"
            ],
            "text/plain": [
              "   difficulty_level  topic  question_type  time_taken  attempts  label\n",
              "0                 3      1              0          30         1      1\n",
              "1                 5      2              1          45         2      1\n",
              "2                 2      1              0          20         1      0\n",
              "3                 6      3              1          60         3      1\n",
              "4                 4      2              0          40         2      0"
            ]
          },
          "execution_count": 39,
          "metadata": {},
          "output_type": "execute_result"
        }
      ],
      "source": [
        "dataset.head()"
      ]
    },
    {
      "cell_type": "code",
      "execution_count": null,
      "id": "a326f18d",
      "metadata": {
        "id": "a326f18d",
        "outputId": "e97512a7-18ba-4075-dccc-3e4e0f4e32ab"
      },
      "outputs": [
        {
          "data": {
            "text/html": [
              "<div>\n",
              "<style scoped>\n",
              "    .dataframe tbody tr th:only-of-type {\n",
              "        vertical-align: middle;\n",
              "    }\n",
              "\n",
              "    .dataframe tbody tr th {\n",
              "        vertical-align: top;\n",
              "    }\n",
              "\n",
              "    .dataframe thead th {\n",
              "        text-align: right;\n",
              "    }\n",
              "</style>\n",
              "<table border=\"1\" class=\"dataframe\">\n",
              "  <thead>\n",
              "    <tr style=\"text-align: right;\">\n",
              "      <th></th>\n",
              "      <th>difficulty_level</th>\n",
              "      <th>topic</th>\n",
              "      <th>question_type</th>\n",
              "      <th>time_taken</th>\n",
              "      <th>attempts</th>\n",
              "      <th>label</th>\n",
              "    </tr>\n",
              "  </thead>\n",
              "  <tbody>\n",
              "    <tr>\n",
              "      <th>62</th>\n",
              "      <td>5</td>\n",
              "      <td>3</td>\n",
              "      <td>0</td>\n",
              "      <td>25</td>\n",
              "      <td>1</td>\n",
              "      <td>0</td>\n",
              "    </tr>\n",
              "    <tr>\n",
              "      <th>63</th>\n",
              "      <td>2</td>\n",
              "      <td>1</td>\n",
              "      <td>1</td>\n",
              "      <td>45</td>\n",
              "      <td>2</td>\n",
              "      <td>1</td>\n",
              "    </tr>\n",
              "    <tr>\n",
              "      <th>64</th>\n",
              "      <td>4</td>\n",
              "      <td>2</td>\n",
              "      <td>0</td>\n",
              "      <td>60</td>\n",
              "      <td>3</td>\n",
              "      <td>1</td>\n",
              "    </tr>\n",
              "    <tr>\n",
              "      <th>65</th>\n",
              "      <td>1</td>\n",
              "      <td>3</td>\n",
              "      <td>1</td>\n",
              "      <td>40</td>\n",
              "      <td>1</td>\n",
              "      <td>0</td>\n",
              "    </tr>\n",
              "    <tr>\n",
              "      <th>66</th>\n",
              "      <td>6</td>\n",
              "      <td>1</td>\n",
              "      <td>0</td>\n",
              "      <td>30</td>\n",
              "      <td>2</td>\n",
              "      <td>0</td>\n",
              "    </tr>\n",
              "  </tbody>\n",
              "</table>\n",
              "</div>"
            ],
            "text/plain": [
              "    difficulty_level  topic  question_type  time_taken  attempts  label\n",
              "62                 5      3              0          25         1      0\n",
              "63                 2      1              1          45         2      1\n",
              "64                 4      2              0          60         3      1\n",
              "65                 1      3              1          40         1      0\n",
              "66                 6      1              0          30         2      0"
            ]
          },
          "execution_count": 40,
          "metadata": {},
          "output_type": "execute_result"
        }
      ],
      "source": [
        "dataset.tail()"
      ]
    },
    {
      "cell_type": "code",
      "execution_count": null,
      "id": "f856bf6b",
      "metadata": {
        "id": "f856bf6b",
        "outputId": "55e48b61-a163-46b0-e020-e8d40cfaac59"
      },
      "outputs": [
        {
          "data": {
            "text/html": [
              "<div>\n",
              "<style scoped>\n",
              "    .dataframe tbody tr th:only-of-type {\n",
              "        vertical-align: middle;\n",
              "    }\n",
              "\n",
              "    .dataframe tbody tr th {\n",
              "        vertical-align: top;\n",
              "    }\n",
              "\n",
              "    .dataframe thead th {\n",
              "        text-align: right;\n",
              "    }\n",
              "</style>\n",
              "<table border=\"1\" class=\"dataframe\">\n",
              "  <thead>\n",
              "    <tr style=\"text-align: right;\">\n",
              "      <th></th>\n",
              "      <th>difficulty_level</th>\n",
              "      <th>topic</th>\n",
              "      <th>question_type</th>\n",
              "      <th>time_taken</th>\n",
              "      <th>attempts</th>\n",
              "      <th>label</th>\n",
              "    </tr>\n",
              "  </thead>\n",
              "  <tbody>\n",
              "    <tr>\n",
              "      <th>count</th>\n",
              "      <td>67.000000</td>\n",
              "      <td>67.000000</td>\n",
              "      <td>67.000000</td>\n",
              "      <td>67.000000</td>\n",
              "      <td>67.000000</td>\n",
              "      <td>67.000000</td>\n",
              "    </tr>\n",
              "    <tr>\n",
              "      <th>mean</th>\n",
              "      <td>3.447761</td>\n",
              "      <td>1.970149</td>\n",
              "      <td>0.507463</td>\n",
              "      <td>37.089552</td>\n",
              "      <td>1.985075</td>\n",
              "      <td>0.507463</td>\n",
              "    </tr>\n",
              "    <tr>\n",
              "      <th>std</th>\n",
              "      <td>1.690289</td>\n",
              "      <td>0.815942</td>\n",
              "      <td>0.503718</td>\n",
              "      <td>11.649855</td>\n",
              "      <td>0.807025</td>\n",
              "      <td>0.503718</td>\n",
              "    </tr>\n",
              "    <tr>\n",
              "      <th>min</th>\n",
              "      <td>1.000000</td>\n",
              "      <td>1.000000</td>\n",
              "      <td>0.000000</td>\n",
              "      <td>15.000000</td>\n",
              "      <td>1.000000</td>\n",
              "      <td>0.000000</td>\n",
              "    </tr>\n",
              "    <tr>\n",
              "      <th>25%</th>\n",
              "      <td>2.000000</td>\n",
              "      <td>1.000000</td>\n",
              "      <td>0.000000</td>\n",
              "      <td>30.000000</td>\n",
              "      <td>1.000000</td>\n",
              "      <td>0.000000</td>\n",
              "    </tr>\n",
              "    <tr>\n",
              "      <th>50%</th>\n",
              "      <td>3.000000</td>\n",
              "      <td>2.000000</td>\n",
              "      <td>1.000000</td>\n",
              "      <td>35.000000</td>\n",
              "      <td>2.000000</td>\n",
              "      <td>1.000000</td>\n",
              "    </tr>\n",
              "    <tr>\n",
              "      <th>75%</th>\n",
              "      <td>5.000000</td>\n",
              "      <td>3.000000</td>\n",
              "      <td>1.000000</td>\n",
              "      <td>45.000000</td>\n",
              "      <td>3.000000</td>\n",
              "      <td>1.000000</td>\n",
              "    </tr>\n",
              "    <tr>\n",
              "      <th>max</th>\n",
              "      <td>6.000000</td>\n",
              "      <td>3.000000</td>\n",
              "      <td>1.000000</td>\n",
              "      <td>60.000000</td>\n",
              "      <td>3.000000</td>\n",
              "      <td>1.000000</td>\n",
              "    </tr>\n",
              "  </tbody>\n",
              "</table>\n",
              "</div>"
            ],
            "text/plain": [
              "       difficulty_level      topic  question_type  time_taken   attempts  \\\n",
              "count         67.000000  67.000000      67.000000   67.000000  67.000000   \n",
              "mean           3.447761   1.970149       0.507463   37.089552   1.985075   \n",
              "std            1.690289   0.815942       0.503718   11.649855   0.807025   \n",
              "min            1.000000   1.000000       0.000000   15.000000   1.000000   \n",
              "25%            2.000000   1.000000       0.000000   30.000000   1.000000   \n",
              "50%            3.000000   2.000000       1.000000   35.000000   2.000000   \n",
              "75%            5.000000   3.000000       1.000000   45.000000   3.000000   \n",
              "max            6.000000   3.000000       1.000000   60.000000   3.000000   \n",
              "\n",
              "           label  \n",
              "count  67.000000  \n",
              "mean    0.507463  \n",
              "std     0.503718  \n",
              "min     0.000000  \n",
              "25%     0.000000  \n",
              "50%     1.000000  \n",
              "75%     1.000000  \n",
              "max     1.000000  "
            ]
          },
          "execution_count": 41,
          "metadata": {},
          "output_type": "execute_result"
        }
      ],
      "source": [
        "dataset.describe()"
      ]
    },
    {
      "cell_type": "code",
      "execution_count": null,
      "id": "8c07ddfb",
      "metadata": {
        "id": "8c07ddfb",
        "outputId": "d04e6c31-9e93-4584-e437-5aa63c76fe52"
      },
      "outputs": [
        {
          "name": "stdout",
          "output_type": "stream",
          "text": [
            "    difficulty_level  topic  question_type  time_taken  attempts\n",
            "0                  3      1              0          30         1\n",
            "1                  5      2              1          45         2\n",
            "2                  2      1              0          20         1\n",
            "3                  6      3              1          60         3\n",
            "4                  4      2              0          40         2\n",
            "..               ...    ...            ...         ...       ...\n",
            "62                 5      3              0          25         1\n",
            "63                 2      1              1          45         2\n",
            "64                 4      2              0          60         3\n",
            "65                 1      3              1          40         1\n",
            "66                 6      1              0          30         2\n",
            "\n",
            "[67 rows x 5 columns]\n",
            "0     1\n",
            "1     1\n",
            "2     0\n",
            "3     1\n",
            "4     0\n",
            "     ..\n",
            "62    0\n",
            "63    1\n",
            "64    1\n",
            "65    0\n",
            "66    0\n",
            "Name: label, Length: 67, dtype: int64\n"
          ]
        }
      ],
      "source": [
        "X= dataset[['difficulty_level','topic','question_type','time_taken','attempts']]\n",
        "y = dataset['label']\n",
        "print(X)\n",
        "print(y)"
      ]
    },
    {
      "cell_type": "code",
      "execution_count": null,
      "id": "2bf3beed",
      "metadata": {
        "id": "2bf3beed",
        "outputId": "e1d2f5f4-c886-41b2-ac94-be1286c378d8"
      },
      "outputs": [
        {
          "name": "stdout",
          "output_type": "stream",
          "text": [
            "Shapes: (50, 5) (17, 5) (50,) (17,)\n"
          ]
        }
      ],
      "source": [
        "X_train, X_test, y_train, y_test = train_test_split(X, y, test_size = 0.25, random_state = 0)\n",
        "print(\"Shapes:\", X_train.shape, X_test.shape, y_train.shape, y_test.shape)"
      ]
    },
    {
      "cell_type": "code",
      "execution_count": null,
      "id": "338320e2",
      "metadata": {
        "id": "338320e2"
      },
      "outputs": [],
      "source": [
        "# Function to read learner information from CSV file\n",
        "learner_info = pd.read_csv(\"C:/Users/asus/Downloads/learner information.csv\")"
      ]
    },
    {
      "cell_type": "code",
      "execution_count": null,
      "id": "a31139b9",
      "metadata": {
        "id": "a31139b9",
        "outputId": "0e16aabe-0c09-4df2-ec2f-2ef48146a5bb"
      },
      "outputs": [
        {
          "data": {
            "text/html": [
              "<div>\n",
              "<style scoped>\n",
              "    .dataframe tbody tr th:only-of-type {\n",
              "        vertical-align: middle;\n",
              "    }\n",
              "\n",
              "    .dataframe tbody tr th {\n",
              "        vertical-align: top;\n",
              "    }\n",
              "\n",
              "    .dataframe thead th {\n",
              "        text-align: right;\n",
              "    }\n",
              "</style>\n",
              "<table border=\"1\" class=\"dataframe\">\n",
              "  <thead>\n",
              "    <tr style=\"text-align: right;\">\n",
              "      <th></th>\n",
              "      <th>learner_id</th>\n",
              "      <th>prior_knowledge</th>\n",
              "      <th>learning_style</th>\n",
              "      <th>preference1</th>\n",
              "      <th>preference2</th>\n",
              "      <th>strength1</th>\n",
              "      <th>strength2</th>\n",
              "      <th>weakness1</th>\n",
              "      <th>weakness2</th>\n",
              "    </tr>\n",
              "  </thead>\n",
              "  <tbody>\n",
              "    <tr>\n",
              "      <th>0</th>\n",
              "      <td>1</td>\n",
              "      <td>Intermediate</td>\n",
              "      <td>Visual</td>\n",
              "      <td>Practice problems</td>\n",
              "      <td>Interactive quizzes</td>\n",
              "      <td>Algebra</td>\n",
              "      <td>Geometry</td>\n",
              "      <td>Calculus</td>\n",
              "      <td>Statistics</td>\n",
              "    </tr>\n",
              "    <tr>\n",
              "      <th>1</th>\n",
              "      <td>2</td>\n",
              "      <td>Advanced</td>\n",
              "      <td>Auditory</td>\n",
              "      <td>Video lectures</td>\n",
              "      <td>Group discussions</td>\n",
              "      <td>Statistics</td>\n",
              "      <td>Calculus</td>\n",
              "      <td>Algebra</td>\n",
              "      <td>Geometry</td>\n",
              "    </tr>\n",
              "    <tr>\n",
              "      <th>2</th>\n",
              "      <td>3</td>\n",
              "      <td>Beginner</td>\n",
              "      <td>Kinesthetic</td>\n",
              "      <td>Hands-on activities</td>\n",
              "      <td>Visual aids</td>\n",
              "      <td>Geometry</td>\n",
              "      <td>Algebra</td>\n",
              "      <td>Statistics</td>\n",
              "      <td>Calculus</td>\n",
              "    </tr>\n",
              "    <tr>\n",
              "      <th>3</th>\n",
              "      <td>4</td>\n",
              "      <td>Intermediate</td>\n",
              "      <td>Visual</td>\n",
              "      <td>Practice problems</td>\n",
              "      <td>Interactive quizzes</td>\n",
              "      <td>Calculus</td>\n",
              "      <td>Statistics</td>\n",
              "      <td>Geometry</td>\n",
              "      <td>Algebra</td>\n",
              "    </tr>\n",
              "    <tr>\n",
              "      <th>4</th>\n",
              "      <td>5</td>\n",
              "      <td>Advanced</td>\n",
              "      <td>Auditory</td>\n",
              "      <td>Video lectures</td>\n",
              "      <td>Group discussions</td>\n",
              "      <td>Algebra</td>\n",
              "      <td>Geometry</td>\n",
              "      <td>Calculus</td>\n",
              "      <td>Statistics</td>\n",
              "    </tr>\n",
              "  </tbody>\n",
              "</table>\n",
              "</div>"
            ],
            "text/plain": [
              "   learner_id prior_knowledge learning_style          preference1  \\\n",
              "0           1    Intermediate         Visual    Practice problems   \n",
              "1           2        Advanced       Auditory       Video lectures   \n",
              "2           3        Beginner    Kinesthetic  Hands-on activities   \n",
              "3           4    Intermediate         Visual    Practice problems   \n",
              "4           5        Advanced       Auditory       Video lectures   \n",
              "\n",
              "           preference2   strength1   strength2   weakness1   weakness2  \n",
              "0  Interactive quizzes     Algebra    Geometry    Calculus  Statistics  \n",
              "1    Group discussions  Statistics    Calculus     Algebra    Geometry  \n",
              "2          Visual aids    Geometry     Algebra  Statistics    Calculus  \n",
              "3  Interactive quizzes    Calculus  Statistics    Geometry     Algebra  \n",
              "4    Group discussions     Algebra    Geometry    Calculus  Statistics  "
            ]
          },
          "execution_count": 45,
          "metadata": {},
          "output_type": "execute_result"
        }
      ],
      "source": [
        "learner_info.head()"
      ]
    },
    {
      "cell_type": "code",
      "execution_count": null,
      "id": "b6501fc8",
      "metadata": {
        "id": "b6501fc8",
        "outputId": "d2ff5c5e-7756-4ce9-97cb-3f8415a0f163"
      },
      "outputs": [
        {
          "data": {
            "text/html": [
              "<div>\n",
              "<style scoped>\n",
              "    .dataframe tbody tr th:only-of-type {\n",
              "        vertical-align: middle;\n",
              "    }\n",
              "\n",
              "    .dataframe tbody tr th {\n",
              "        vertical-align: top;\n",
              "    }\n",
              "\n",
              "    .dataframe thead th {\n",
              "        text-align: right;\n",
              "    }\n",
              "</style>\n",
              "<table border=\"1\" class=\"dataframe\">\n",
              "  <thead>\n",
              "    <tr style=\"text-align: right;\">\n",
              "      <th></th>\n",
              "      <th>learner_id</th>\n",
              "      <th>prior_knowledge</th>\n",
              "      <th>learning_style</th>\n",
              "      <th>preference1</th>\n",
              "      <th>preference2</th>\n",
              "      <th>strength1</th>\n",
              "      <th>strength2</th>\n",
              "      <th>weakness1</th>\n",
              "      <th>weakness2</th>\n",
              "    </tr>\n",
              "  </thead>\n",
              "  <tbody>\n",
              "    <tr>\n",
              "      <th>75</th>\n",
              "      <td>76</td>\n",
              "      <td>Intermediate</td>\n",
              "      <td>Kinesthetic</td>\n",
              "      <td>Hands-on activities</td>\n",
              "      <td>Visual aids</td>\n",
              "      <td>Calculus</td>\n",
              "      <td>Statistics</td>\n",
              "      <td>Geometry</td>\n",
              "      <td>Algebra</td>\n",
              "    </tr>\n",
              "    <tr>\n",
              "      <th>76</th>\n",
              "      <td>77</td>\n",
              "      <td>Beginner</td>\n",
              "      <td>Visual</td>\n",
              "      <td>Practice problems</td>\n",
              "      <td>Interactive simulations</td>\n",
              "      <td>Geometry</td>\n",
              "      <td>Calculus</td>\n",
              "      <td>Algebra</td>\n",
              "      <td>Statistics</td>\n",
              "    </tr>\n",
              "    <tr>\n",
              "      <th>77</th>\n",
              "      <td>78</td>\n",
              "      <td>Advanced</td>\n",
              "      <td>Auditory</td>\n",
              "      <td>Video lectures</td>\n",
              "      <td>Group discussions</td>\n",
              "      <td>Statistics</td>\n",
              "      <td>Calculus</td>\n",
              "      <td>Algebra</td>\n",
              "      <td>Geometry</td>\n",
              "    </tr>\n",
              "    <tr>\n",
              "      <th>78</th>\n",
              "      <td>79</td>\n",
              "      <td>Intermediate</td>\n",
              "      <td>Visual</td>\n",
              "      <td>Practice problems</td>\n",
              "      <td>Interactive quizzes</td>\n",
              "      <td>Geometry</td>\n",
              "      <td>Algebra</td>\n",
              "      <td>Statistics</td>\n",
              "      <td>Calculus</td>\n",
              "    </tr>\n",
              "    <tr>\n",
              "      <th>79</th>\n",
              "      <td>80</td>\n",
              "      <td>Beginner</td>\n",
              "      <td>Kinesthetic</td>\n",
              "      <td>Hands-on activities</td>\n",
              "      <td>Visual aids</td>\n",
              "      <td>Calculus</td>\n",
              "      <td>Geometry</td>\n",
              "      <td>Statistics</td>\n",
              "      <td>Algebra</td>\n",
              "    </tr>\n",
              "  </tbody>\n",
              "</table>\n",
              "</div>"
            ],
            "text/plain": [
              "    learner_id prior_knowledge learning_style          preference1  \\\n",
              "75          76    Intermediate    Kinesthetic  Hands-on activities   \n",
              "76          77        Beginner         Visual    Practice problems   \n",
              "77          78        Advanced       Auditory       Video lectures   \n",
              "78          79    Intermediate         Visual    Practice problems   \n",
              "79          80        Beginner    Kinesthetic  Hands-on activities   \n",
              "\n",
              "                preference2   strength1   strength2   weakness1   weakness2  \n",
              "75              Visual aids    Calculus  Statistics    Geometry     Algebra  \n",
              "76  Interactive simulations    Geometry    Calculus     Algebra  Statistics  \n",
              "77        Group discussions  Statistics    Calculus     Algebra    Geometry  \n",
              "78      Interactive quizzes    Geometry     Algebra  Statistics    Calculus  \n",
              "79              Visual aids    Calculus    Geometry  Statistics     Algebra  "
            ]
          },
          "execution_count": 46,
          "metadata": {},
          "output_type": "execute_result"
        }
      ],
      "source": [
        "learner_info.tail()"
      ]
    },
    {
      "cell_type": "code",
      "execution_count": null,
      "id": "5c8f1a49",
      "metadata": {
        "id": "5c8f1a49",
        "outputId": "36e13778-76b8-4559-b6b8-6e71a7de9452"
      },
      "outputs": [
        {
          "data": {
            "text/html": [
              "<div>\n",
              "<style scoped>\n",
              "    .dataframe tbody tr th:only-of-type {\n",
              "        vertical-align: middle;\n",
              "    }\n",
              "\n",
              "    .dataframe tbody tr th {\n",
              "        vertical-align: top;\n",
              "    }\n",
              "\n",
              "    .dataframe thead th {\n",
              "        text-align: right;\n",
              "    }\n",
              "</style>\n",
              "<table border=\"1\" class=\"dataframe\">\n",
              "  <thead>\n",
              "    <tr style=\"text-align: right;\">\n",
              "      <th></th>\n",
              "      <th>learner_id</th>\n",
              "    </tr>\n",
              "  </thead>\n",
              "  <tbody>\n",
              "    <tr>\n",
              "      <th>count</th>\n",
              "      <td>80.0000</td>\n",
              "    </tr>\n",
              "    <tr>\n",
              "      <th>mean</th>\n",
              "      <td>40.5000</td>\n",
              "    </tr>\n",
              "    <tr>\n",
              "      <th>std</th>\n",
              "      <td>23.2379</td>\n",
              "    </tr>\n",
              "    <tr>\n",
              "      <th>min</th>\n",
              "      <td>1.0000</td>\n",
              "    </tr>\n",
              "    <tr>\n",
              "      <th>25%</th>\n",
              "      <td>20.7500</td>\n",
              "    </tr>\n",
              "    <tr>\n",
              "      <th>50%</th>\n",
              "      <td>40.5000</td>\n",
              "    </tr>\n",
              "    <tr>\n",
              "      <th>75%</th>\n",
              "      <td>60.2500</td>\n",
              "    </tr>\n",
              "    <tr>\n",
              "      <th>max</th>\n",
              "      <td>80.0000</td>\n",
              "    </tr>\n",
              "  </tbody>\n",
              "</table>\n",
              "</div>"
            ],
            "text/plain": [
              "       learner_id\n",
              "count     80.0000\n",
              "mean      40.5000\n",
              "std       23.2379\n",
              "min        1.0000\n",
              "25%       20.7500\n",
              "50%       40.5000\n",
              "75%       60.2500\n",
              "max       80.0000"
            ]
          },
          "execution_count": 47,
          "metadata": {},
          "output_type": "execute_result"
        }
      ],
      "source": [
        "learner_info.describe()"
      ]
    },
    {
      "cell_type": "code",
      "execution_count": null,
      "id": "b49f697d",
      "metadata": {
        "id": "b49f697d"
      },
      "outputs": [],
      "source": [
        "# Function to gather information about learners\n",
        "def gather_learner_info(file_path=\"C:/Users/asus/Downloads/learner information.csv\"):\n",
        "    # Read learner information from CSV file\n",
        "    learner_info = pd.read_csv(file_path)\n",
        "    return learner_info"
      ]
    },
    {
      "cell_type": "code",
      "execution_count": null,
      "id": "d80d162d",
      "metadata": {
        "id": "d80d162d"
      },
      "outputs": [],
      "source": [
        "# Function to log learner interactions, performance, and engagement\n",
        "def log_learner_data(learner_id, interaction_type, performance, engagement):\n",
        "    # In a real-world scenario, this function would log data to a database or file\n",
        "    print(f\"Logging - Learner ID: {learner_id}, Interaction: {interaction_type}, Performance: {performance}, Engagement: {engagement}\")"
      ]
    },
    {
      "cell_type": "code",
      "execution_count": null,
      "id": "e4b22e67",
      "metadata": {
        "id": "e4b22e67"
      },
      "outputs": [],
      "source": [
        "# Function to provide feedback on correct and incorrect answers\n",
        "def provide_feedback(correct_answer):\n",
        "    # In a real-world scenario, this function would provide detailed feedback to the learner\n",
        "    if correct_answer:\n",
        "        print(\"Correct! Well done.\")\n",
        "        print(\"Here's some additional explanation or resources to reinforce your understanding.\")\n",
        "    else:\n",
        "        print(\"Incorrect. Let's try again.\")\n",
        "        print(\"Here's why the answer is incorrect and some guidance to help you improve.\")"
      ]
    },
    {
      "cell_type": "code",
      "execution_count": null,
      "id": "109a644e",
      "metadata": {
        "id": "109a644e",
        "outputId": "f5fa29e2-29da-4c13-aa01-289d75f95505"
      },
      "outputs": [
        {
          "data": {
            "text/plain": [
              "DecisionTreeClassifier()"
            ]
          },
          "execution_count": 51,
          "metadata": {},
          "output_type": "execute_result"
        }
      ],
      "source": [
        "# Read dataset from CSV file\n",
        "data= pd.read_csv(\"C:/Users/asus/Downloads/Dataset.csv\")\n",
        "\n",
        "X = data.iloc[:, :-1]\n",
        "y = data.iloc[:, -1]\n",
        "\n",
        "# Split dataset into training and testing sets\n",
        "X_train, X_test, y_train, y_test = train_test_split(X, y, test_size=0.2, random_state=42)\n",
        "\n",
        "# Create decision tree classifier\n",
        "classifier = DecisionTreeClassifier()\n",
        "\n",
        "# Train the classifier\n",
        "classifier.fit(X_train, y_train)"
      ]
    },
    {
      "cell_type": "code",
      "execution_count": null,
      "id": "16912378",
      "metadata": {
        "id": "16912378",
        "outputId": "7df37292-ddd7-464a-d787-3065704fdca3"
      },
      "outputs": [
        {
          "name": "stderr",
          "output_type": "stream",
          "text": [
            "C:\\ProgramData\\Anaconda3\\lib\\site-packages\\sklearn\\base.py:450: UserWarning: X does not have valid feature names, but DecisionTreeClassifier was fitted with feature names\n",
            "  warnings.warn(\n"
          ]
        }
      ],
      "source": [
        "# Sample user performance (for demonstration)\n",
        "user_performance = np.array([2, 1, 0, 25, 1])  # User answered a difficulty level 2 question on topic 1, multiple choice, in 25 seconds, 1 attempt\n",
        "\n",
        "# Predict user's answer (0 - Incorrect, 1 - Correct)\n",
        "predicted_label = classifier.predict([user_performance])"
      ]
    },
    {
      "cell_type": "code",
      "execution_count": null,
      "id": "c183271b",
      "metadata": {
        "id": "c183271b",
        "outputId": "52017409-9bce-435f-814d-b41fea4f9cf4"
      },
      "outputs": [
        {
          "name": "stdout",
          "output_type": "stream",
          "text": [
            "Logging - Learner ID: 1, Interaction: Question Attempt, Performance: Incorrect, Engagement: High\n",
            "Incorrect. Let's try again.\n",
            "Here's why the answer is incorrect and some guidance to help you improve.\n"
          ]
        }
      ],
      "source": [
        "# Log learner data for the interaction\n",
        "log_learner_data(learner_id=1, interaction_type='Question Attempt', performance='Correct' if predicted_label == 1 else 'Incorrect', engagement='High')\n",
        "\n",
        "# Provide feedback based on the prediction\n",
        "provide_feedback(correct_answer=predicted_label == 1)"
      ]
    },
    {
      "cell_type": "code",
      "execution_count": null,
      "id": "53b7bf9e",
      "metadata": {
        "id": "53b7bf9e",
        "outputId": "8a8b78e3-be3b-4c08-e440-0afa0d25c147"
      },
      "outputs": [
        {
          "name": "stdout",
          "output_type": "stream",
          "text": [
            "New Question: [1, 1, 0, 25, 1]\n"
          ]
        }
      ],
      "source": [
        "# Adjust difficulty level based on user's performance\n",
        "if predicted_label == 1:\n",
        "    new_difficulty_level = user_performance[0] + 1  # Increase difficulty\n",
        "else:\n",
        "    new_difficulty_level = user_performance[0] - 1  # Decrease difficulty\n",
        "\n",
        "# Generate a new question with the adjusted difficulty level\n",
        "new_question = [new_difficulty_level, user_performance[1], user_performance[2], user_performance[3], user_performance[4]]\n",
        "\n",
        "print(\"New Question:\", new_question)"
      ]
    },
    {
      "cell_type": "code",
      "execution_count": null,
      "id": "d73a0a1f",
      "metadata": {
        "id": "d73a0a1f",
        "outputId": "c23371f3-217b-4d96-b585-7153579efd87"
      },
      "outputs": [
        {
          "name": "stdout",
          "output_type": "stream",
          "text": [
            "Learner Information:\n",
            "    learner_id prior_knowledge learning_style          preference1  \\\n",
            "0            1    Intermediate         Visual    Practice problems   \n",
            "1            2        Advanced       Auditory       Video lectures   \n",
            "2            3        Beginner    Kinesthetic  Hands-on activities   \n",
            "3            4    Intermediate         Visual    Practice problems   \n",
            "4            5        Advanced       Auditory       Video lectures   \n",
            "..         ...             ...            ...                  ...   \n",
            "75          76    Intermediate    Kinesthetic  Hands-on activities   \n",
            "76          77        Beginner         Visual    Practice problems   \n",
            "77          78        Advanced       Auditory       Video lectures   \n",
            "78          79    Intermediate         Visual    Practice problems   \n",
            "79          80        Beginner    Kinesthetic  Hands-on activities   \n",
            "\n",
            "                preference2   strength1   strength2   weakness1   weakness2  \n",
            "0       Interactive quizzes     Algebra    Geometry    Calculus  Statistics  \n",
            "1         Group discussions  Statistics    Calculus     Algebra    Geometry  \n",
            "2               Visual aids    Geometry     Algebra  Statistics    Calculus  \n",
            "3       Interactive quizzes    Calculus  Statistics    Geometry     Algebra  \n",
            "4         Group discussions     Algebra    Geometry    Calculus  Statistics  \n",
            "..                      ...         ...         ...         ...         ...  \n",
            "75              Visual aids    Calculus  Statistics    Geometry     Algebra  \n",
            "76  Interactive simulations    Geometry    Calculus     Algebra  Statistics  \n",
            "77        Group discussions  Statistics    Calculus     Algebra    Geometry  \n",
            "78      Interactive quizzes    Geometry     Algebra  Statistics    Calculus  \n",
            "79              Visual aids    Calculus    Geometry  Statistics     Algebra  \n",
            "\n",
            "[80 rows x 9 columns]\n"
          ]
        }
      ],
      "source": [
        "# Gather information about learners\n",
        "learner_info =learner_info\n",
        "print(\"Learner Information:\")\n",
        "print(learner_info)"
      ]
    },
    {
      "cell_type": "code",
      "execution_count": null,
      "id": "4707f220",
      "metadata": {
        "id": "4707f220",
        "outputId": "372711c1-e14d-4131-bcb6-c92edac61df8"
      },
      "outputs": [
        {
          "name": "stdout",
          "output_type": "stream",
          "text": [
            "Curriculum Mapping:\n",
            "Unit 1:\n",
            "- Algebra Basics\n",
            "- Linear Equations\n",
            "\n",
            "Unit 2:\n",
            "- Quadratic Equations\n",
            "- Polynomials\n",
            "\n",
            "Unit 3:\n",
            "- Geometry Fundamentals\n",
            "- Trigonometry\n",
            "\n"
          ]
        }
      ],
      "source": [
        "# Define the curriculum mapping\n",
        "curriculum = {\n",
        "    'Unit 1': ['Algebra Basics', 'Linear Equations'],\n",
        "    'Unit 2': ['Quadratic Equations', 'Polynomials'],\n",
        "    'Unit 3': ['Geometry Fundamentals', 'Trigonometry']\n",
        "}\n",
        "\n",
        "print(\"Curriculum Mapping:\")\n",
        "for unit, topics in curriculum.items():\n",
        "    print(f\"{unit}:\")\n",
        "    for topic in topics:\n",
        "        print(f\"- {topic}\")\n",
        "    print()"
      ]
    },
    {
      "cell_type": "code",
      "execution_count": null,
      "id": "63cf11dc",
      "metadata": {
        "id": "63cf11dc"
      },
      "outputs": [],
      "source": []
    },
    {
      "cell_type": "code",
      "execution_count": null,
      "id": "fc2cc229",
      "metadata": {
        "id": "fc2cc229"
      },
      "outputs": [],
      "source": []
    }
  ],
  "metadata": {
    "kernelspec": {
      "display_name": "Python 3 (ipykernel)",
      "language": "python",
      "name": "python3"
    },
    "language_info": {
      "codemirror_mode": {
        "name": "ipython",
        "version": 3
      },
      "file_extension": ".py",
      "mimetype": "text/x-python",
      "name": "python",
      "nbconvert_exporter": "python",
      "pygments_lexer": "ipython3",
      "version": "3.9.13"
    },
    "colab": {
      "provenance": [],
      "include_colab_link": true
    }
  },
  "nbformat": 4,
  "nbformat_minor": 5
}